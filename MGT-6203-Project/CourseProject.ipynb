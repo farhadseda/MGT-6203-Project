{
 "cells": [
  {
   "cell_type": "markdown",
   "metadata": {},
   "source": [
    "## Install all the required packages first"
   ]
  },
  {
   "cell_type": "code",
   "execution_count": 1,
   "metadata": {},
   "outputs": [],
   "source": [
    "#install.packages('IRkernel') \n",
    "# install.packages(\"rlang\", type=\"binary\",dependencies = TRUE)\n",
    "# install.packages(\"magrittr\", type=\"binary\",dependencies = TRUE) # package installations are only needed the first time you use it\n",
    "# install.packages(\"dplyr\", type=\"binary\",dependencies = TRUE)    # alternative installation of the %>%\n",
    "# install.packages(\"tidyquant\", type=\"binary\",dependencies = TRUE)\n",
    "# install.packages(\"lubridate\", type=\"binary\",dependencies = TRUE)\n",
    "# install.packages(\"PerformanceAnalytics\", type=\"binary\",dependencies = TRUE)\n",
    "# install.packages(\"xts\", type=\"binary\",dependencies = TRUE)\n",
    "# install.packages(\"ggplot2\", type=\"binary\",dependencies = TRUE)\n",
    "# install.packages(\"broom\", type=\"binary\",dependencies = TRUE)\n",
    "# install.packages(\"tidyverse\", type=\"binary\",dependencies = TRUE)\n",
    "# install.packages('timetk', type=\"binary\",dependencies = TRUE)"
   ]
  },
  {
   "cell_type": "code",
   "execution_count": 2,
   "metadata": {},
   "outputs": [],
   "source": [
    "# remove.packages(\"rlang\")\n",
    "# install.packages(\"magrittr\") # package installations are only needed the first time you use it\n",
    "# install.packages(\"dplyr\")    # alternative installation of the %>%\n",
    "# install.packages(\"tidyquant\")\n",
    "# install.packages(\"lubridate\")\n",
    "# install.packages(\"PerformanceAnalytics\")\n",
    "# install.packages(\"xts\")\n",
    "# install.packages(\"ggplot2\")\n",
    "# install.packages(\"broom\")\n",
    "# install.packages(\"tidyverse\")\n",
    "# install.packages(\"timetk\")"
   ]
  },
  {
   "cell_type": "markdown",
   "metadata": {},
   "source": [
    "## load the required packages"
   ]
  },
  {
   "cell_type": "code",
   "execution_count": 20,
   "metadata": {},
   "outputs": [],
   "source": [
    "# library(rlang)\n",
    "library(magrittr) # needs to be run every time you start R and want to use %>%\n",
    "library(ggplot2)\n",
    "library(dplyr)    # alternatively, this also loads %>%\n",
    "library(tidyquant)\n",
    "library(tidyverse)\n",
    "library(lubridate)\n",
    "library(PerformanceAnalytics)\n",
    "library(xts)\n",
    "library(timetk)"
   ]
  },
  {
   "cell_type": "markdown",
   "metadata": {},
   "source": [
    "## Function to evalute the portfolio return based on the indecies and corresponding weights"
   ]
  },
  {
   "cell_type": "code",
   "execution_count": 4,
   "metadata": {},
   "outputs": [],
   "source": [
    "portfolio_return <- function(Indecies, wts){\n",
    "    stock_prices <- tq_get(Indecies , get  = \"stock.prices\")\n",
    "    stock_returns_monthly <- stock_prices %>% group_by(symbol) %>% tq_transmute(select = adjusted,mutate_fun = periodReturn, period     = \"monthly\", col_rename = \"Ra\")\n",
    "    portfolio_returns_monthly <- stock_returns_monthly %>% tq_portfolio(assets_col  = symbol, returns_col = Ra, weights = wts, col_rename  = \"Ra\")\n",
    "    return(portfolio_returns_monthly)\n",
    "}"
   ]
  },
  {
   "cell_type": "markdown",
   "metadata": {},
   "source": [
    "## Function to plot the return, and estimate cumulative return, and current investment"
   ]
  },
  {
   "cell_type": "code",
   "execution_count": 5,
   "metadata": {},
   "outputs": [],
   "source": [
    "portfolio_cum_return <- function(portfolio_returns_monthly, Initial_investment){\n",
    "    portfolio_returns_monthly<- portfolio_returns_monthly[order(portfolio_returns_monthly$date),]\n",
    "    #create an xts dataset  \n",
    "    All.dat <- xts(portfolio_returns_monthly[,-1], order.by = portfolio_returns_monthly$date) \n",
    "    #Calculate Compound Return for the fund across all the data  \n",
    "    Return.cumulative(All.dat$Ra,geometric = TRUE) \n",
    "    cum_ret <- Return.cumulative(All.dat$Ra,geometric = TRUE)[1]\n",
    "    p.plot <- chart.CumReturns(All.dat$Ra,wealth.index = FALSE, geometric = TRUE)  \n",
    "    current_investment = Initial_investment * (1+cum_ret) \n",
    "    return(c(p.plot, cum_ret, current_investment))\n",
    "}"
   ]
  },
  {
   "cell_type": "code",
   "execution_count": 6,
   "metadata": {},
   "outputs": [],
   "source": [
    "Initial_investment = 10000"
   ]
  },
  {
   "cell_type": "markdown",
   "metadata": {},
   "source": [
    "# Factor-based Strategy"
   ]
  },
  {
   "cell_type": "code",
   "execution_count": 7,
   "metadata": {},
   "outputs": [
    {
     "name": "stderr",
     "output_type": "stream",
     "text": [
      "Warning message in PerformanceAnalytics::Return.portfolio(., weights = weights, :\n",
      "\"NA's detected: filling NA's with zeros\"\n"
     ]
    },
    {
     "data": {
      "text/plain": [
       "[[1]]\n",
       "\n",
       "[[2]]\n",
       "[1] 2.11694\n",
       "\n",
       "[[3]]\n",
       "[1] 31169.4\n"
      ]
     },
     "metadata": {},
     "output_type": "display_data"
    },
    {
     "data": {
      "image/png": "[encoded data removed]",
      "text/plain": [
       "plot without title"
      ]
     },
     "metadata": {
      "image/png": {
       "height": 420,
       "width": 420
      }
     },
     "output_type": "display_data"
    }
   ],
   "source": [
    "Indecies <- c(\"SIZE\",\"VLUE\",\"MTUM\",\"USMV\",\"QUAL\")\n",
    "wts <- c(0.2, 0.2, 0.2, 0.2, 0.2)\n",
    "res <- portfolio_return(Indecies, wts)\n",
    "portfolio_cum_return(res, Initial_investment)"
   ]
  },
  {
   "cell_type": "markdown",
   "metadata": {},
   "source": [
    "# Barbell Strategy"
   ]
  },
  {
   "cell_type": "markdown",
   "metadata": {},
   "source": [
    "## Allocation  #1"
   ]
  },
  {
   "cell_type": "code",
   "execution_count": 8,
   "metadata": {},
   "outputs": [
    {
     "name": "stderr",
     "output_type": "stream",
     "text": [
      "Warning message in PerformanceAnalytics::Return.portfolio(., weights = weights, :\n",
      "\"NA's detected: filling NA's with zeros\"\n"
     ]
    },
    {
     "data": {
      "text/plain": [
       "[[1]]\n",
       "\n",
       "[[2]]\n",
       "[1] 2.271236\n",
       "\n",
       "[[3]]\n",
       "[1] 32712.36\n"
      ]
     },
     "metadata": {},
     "output_type": "display_data"
    },
    {
     "data": {
      "image/png": "[encoded data removed]",
      "text/plain": [
       "plot without title"
      ]
     },
     "metadata": {
      "image/png": {
       "height": 420,
       "width": 420
      }
     },
     "output_type": "display_data"
    }
   ],
   "source": [
    "Indecies <- c(\"USMV\",\"QUAL\")\n",
    "wts <- c(0.5, 0.5)\n",
    "res <- portfolio_return(Indecies, wts)\n",
    "portfolio_cum_return(res, Initial_investment)"
   ]
  },
  {
   "cell_type": "code",
   "execution_count": 9,
   "metadata": {},
   "outputs": [
    {
     "name": "stderr",
     "output_type": "stream",
     "text": [
      "Warning message in PerformanceAnalytics::Return.portfolio(., weights = weights, :\n",
      "\"NA's detected: filling NA's with zeros\"\n"
     ]
    }
   ],
   "source": [
    "stock_prices <- c(\"USMV\",\"QUAL\") %>%\n",
    "  tq_get(get  = \"stock.prices\")\n",
    "  \n",
    "# stock_prices\n",
    "\n",
    "library(tidyverse)\n",
    "stock_returns_monthly <- stock_prices %>%\n",
    "  group_by(symbol) %>%\n",
    "  tq_transmute(select     = adjusted, \n",
    "               mutate_fun = periodReturn, \n",
    "               period     = \"monthly\", \n",
    "               col_rename = \"Ra\")\n",
    "\n",
    "wts <- c(0.5, 0.5)\n",
    "\n",
    "portfolio1_returns_monthly <- stock_returns_monthly %>%\n",
    "  tq_portfolio(assets_col  = symbol, \n",
    "               returns_col = Ra, \n",
    "               weights     = wts, \n",
    "               col_rename  = \"Ra\")"
   ]
  },
  {
   "cell_type": "code",
   "execution_count": 10,
   "metadata": {},
   "outputs": [
    {
     "data": {
      "text/html": [
       "<table>\n",
       "<thead><tr><th></th><th scope=col>Ra</th></tr></thead>\n",
       "<tbody>\n",
       "\t<tr><th scope=row>Cumulative Return</th><td>2.271236</td></tr>\n",
       "</tbody>\n",
       "</table>\n"
      ],
      "text/latex": [
       "\\begin{tabular}{r|l}\n",
       "  & Ra\\\\\n",
       "\\hline\n",
       "\tCumulative Return & 2.271236\\\\\n",
       "\\end{tabular}\n"
      ],
      "text/markdown": [
       "\n",
       "| <!--/--> | Ra |\n",
       "|---|---|\n",
       "| Cumulative Return | 2.271236 |\n",
       "\n"
      ],
      "text/plain": [
       "                  Ra      \n",
       "Cumulative Return 2.271236"
      ]
     },
     "metadata": {},
     "output_type": "display_data"
    },
    {
     "data": {
      "text/html": [
       "32712.3603455405"
      ],
      "text/latex": [
       "32712.3603455405"
      ],
      "text/markdown": [
       "32712.3603455405"
      ],
      "text/plain": [
       "[1] 32712.36"
      ]
     },
     "metadata": {},
     "output_type": "display_data"
    },
    {
     "data": {
      "image/png": "[encoded data removed]",
      "text/plain": [
       "plot without title"
      ]
     },
     "metadata": {
      "image/png": {
       "height": 420,
       "width": 420
      }
     },
     "output_type": "display_data"
    }
   ],
   "source": [
    "# portfolio1_returns_monthly$date <- mdy(portfolio1_returns_monthly$date) \n",
    "portfolio1_returns_monthly<- portfolio1_returns_monthly[order(portfolio1_returns_monthly$date),]\n",
    "#create an xts dataset  \n",
    "All.dat <- xts(portfolio1_returns_monthly[,-1], order.by = portfolio1_returns_monthly$date) \n",
    "#Calculate Compound Return for the fund across all the data  \n",
    "Return.cumulative(All.dat$Ra,geometric = TRUE) \n",
    "cum_ret <- Return.cumulative(All.dat$Ra,geometric = TRUE)[1]\n",
    "chart.CumReturns(All.dat$Ra,wealth.index = FALSE, geometric = TRUE)  \n",
    "10000 * (1+cum_ret) "
   ]
  },
  {
   "cell_type": "markdown",
   "metadata": {},
   "source": [
    "## Allocation  #2"
   ]
  },
  {
   "cell_type": "code",
   "execution_count": 11,
   "metadata": {},
   "outputs": [
    {
     "name": "stderr",
     "output_type": "stream",
     "text": [
      "Warning message in PerformanceAnalytics::Return.portfolio(., weights = weights, :\n",
      "\"NA's detected: filling NA's with zeros\"\n"
     ]
    },
    {
     "data": {
      "text/plain": [
       "[[1]]\n",
       "\n",
       "[[2]]\n",
       "[1] 1.051819\n",
       "\n",
       "[[3]]\n",
       "[1] 20518.19\n"
      ]
     },
     "metadata": {},
     "output_type": "display_data"
    },
    {
     "data": {
      "image/png": "[encoded data removed]",
      "text/plain": [
       "plot without title"
      ]
     },
     "metadata": {
      "image/png": {
       "height": 420,
       "width": 420
      }
     },
     "output_type": "display_data"
    }
   ],
   "source": [
    "Indecies <- c(\"GOVT\",\"QUAL\")\n",
    "wts <- c(0.5, 0.5)\n",
    "res <- portfolio_return(Indecies, wts)\n",
    "portfolio_cum_return(res, Initial_investment)"
   ]
  },
  {
   "cell_type": "code",
   "execution_count": 12,
   "metadata": {},
   "outputs": [
    {
     "name": "stderr",
     "output_type": "stream",
     "text": [
      "Warning message in PerformanceAnalytics::Return.portfolio(., weights = weights, :\n",
      "\"NA's detected: filling NA's with zeros\"\n"
     ]
    }
   ],
   "source": [
    "stock_prices <- c(\"GOVT\",\"QUAL\") %>%\n",
    "  tq_get(get  = \"stock.prices\")\n",
    "  \n",
    "# stock_prices\n",
    "\n",
    "library(tidyverse)\n",
    "stock_returns_monthly <- stock_prices %>%\n",
    "  group_by(symbol) %>%\n",
    "  tq_transmute(select     = adjusted, \n",
    "               mutate_fun = periodReturn, \n",
    "               period     = \"monthly\", \n",
    "               col_rename = \"Ra\")\n",
    "\n",
    "wts <- c(0.5, 0.5)\n",
    "\n",
    "portfolio2_returns_monthly <- stock_returns_monthly %>%\n",
    "  tq_portfolio(assets_col  = symbol, \n",
    "               returns_col = Ra, \n",
    "               weights     = wts, \n",
    "               col_rename  = \"Ra\")"
   ]
  },
  {
   "cell_type": "code",
   "execution_count": 13,
   "metadata": {},
   "outputs": [
    {
     "data": {
      "text/html": [
       "<table>\n",
       "<thead><tr><th></th><th scope=col>Ra</th></tr></thead>\n",
       "<tbody>\n",
       "\t<tr><th scope=row>Cumulative Return</th><td>1.05182</td></tr>\n",
       "</tbody>\n",
       "</table>\n"
      ],
      "text/latex": [
       "\\begin{tabular}{r|l}\n",
       "  & Ra\\\\\n",
       "\\hline\n",
       "\tCumulative Return & 1.05182\\\\\n",
       "\\end{tabular}\n"
      ],
      "text/markdown": [
       "\n",
       "| <!--/--> | Ra |\n",
       "|---|---|\n",
       "| Cumulative Return | 1.05182 |\n",
       "\n"
      ],
      "text/plain": [
       "                  Ra     \n",
       "Cumulative Return 1.05182"
      ]
     },
     "metadata": {},
     "output_type": "display_data"
    },
    {
     "data": {
      "text/html": [
       "20518.1952122281"
      ],
      "text/latex": [
       "20518.1952122281"
      ],
      "text/markdown": [
       "20518.1952122281"
      ],
      "text/plain": [
       "[1] 20518.2"
      ]
     },
     "metadata": {},
     "output_type": "display_data"
    },
    {
     "data": {
      "image/png": "[encoded data removed]",
      "text/plain": [
       "plot without title"
      ]
     },
     "metadata": {
      "image/png": {
       "height": 420,
       "width": 420
      }
     },
     "output_type": "display_data"
    }
   ],
   "source": [
    "# portfolio1_returns_monthly$date <- mdy(portfolio1_returns_monthly$date) \n",
    "portfolio2_returns_monthly<- portfolio2_returns_monthly[order(portfolio2_returns_monthly$date),]\n",
    "#create an xts dataset  \n",
    "All.dat <- xts(portfolio2_returns_monthly[,-1], order.by = portfolio2_returns_monthly$date) \n",
    "#Calculate Compound Return for the fund across all the data  \n",
    "Return.cumulative(All.dat$Ra,geometric = TRUE) \n",
    "cum_ret <- Return.cumulative(All.dat$Ra,geometric = TRUE)[1]\n",
    "chart.CumReturns(All.dat$Ra,wealth.index = FALSE, geometric = TRUE)  \n",
    "10000 * (1+cum_ret) "
   ]
  },
  {
   "cell_type": "markdown",
   "metadata": {},
   "source": [
    "## Allocation  #3"
   ]
  },
  {
   "cell_type": "code",
   "execution_count": 14,
   "metadata": {},
   "outputs": [
    {
     "name": "stderr",
     "output_type": "stream",
     "text": [
      "Warning message in PerformanceAnalytics::Return.portfolio(., weights = weights, :\n",
      "\"NA's detected: filling NA's with zeros\"\n"
     ]
    },
    {
     "data": {
      "text/plain": [
       "[[1]]\n",
       "\n",
       "[[2]]\n",
       "[1] 10.24934\n",
       "\n",
       "[[3]]\n",
       "[1] 112493.4\n"
      ]
     },
     "metadata": {},
     "output_type": "display_data"
    },
    {
     "data": {
      "image/png": "[encoded data removed]",
      "text/plain": [
       "plot without title"
      ]
     },
     "metadata": {
      "image/png": {
       "height": 420,
       "width": 420
      }
     },
     "output_type": "display_data"
    }
   ],
   "source": [
    "# https://www.marketwatch.com/story/here-are-the-most-and-least-volatile-stocks-among-the-sp-500-2019-01-29\n",
    "# Most volatile stocks # verizon, walmart, Sysco Corp., Western Union Co., Coca-Cola Co.\n",
    "# Least volatile stocks # Nvidia Corp., Lam Research Corp., AMD, Twitter Inc., Macy's Inc.\n",
    "Indecies <- c(\"VZ\",\"WMT\",\"SYY\",\"WU\",\"KO\",\"NVDA\",\"LRCX\",\"AMD\",\"TWTR\",\"M\")\n",
    "wts <- c(0.1, 0.1, 0.1, 0.1, 0.1, 0.1, 0.1, 0.1, 0.1, 0.1)\n",
    "res <- portfolio_return(Indecies, wts)\n",
    "portfolio_cum_return(res, Initial_investment)"
   ]
  },
  {
   "cell_type": "code",
   "execution_count": 15,
   "metadata": {},
   "outputs": [
    {
     "name": "stderr",
     "output_type": "stream",
     "text": [
      "Warning message in PerformanceAnalytics::Return.portfolio(., weights = weights, :\n",
      "\"NA's detected: filling NA's with zeros\"\n"
     ]
    }
   ],
   "source": [
    "# https://www.marketwatch.com/story/here-are-the-most-and-least-volatile-stocks-among-the-sp-500-2019-01-29\n",
    "# Most volatile stocks # verizon, walmart, Sysco Corp., Western Union Co., Coca-Cola Co.\n",
    "# Least volatile stocks # Nvidia Corp., Lam Research Corp., AMD, Twitter Inc., Macy's Inc.\n",
    "stock_prices <- c(\"VZ\",\"WMT\",\"SYY\",\"WU\",\"KO\",\"NVDA\",\"LRCX\",\"AMD\",\"TWTR\",\"M\") %>%\n",
    "  tq_get(get  = \"stock.prices\")\n",
    "  \n",
    "# stock_prices\n",
    "\n",
    "library(tidyverse)\n",
    "stock_returns_monthly <- stock_prices %>%\n",
    "  group_by(symbol) %>%\n",
    "  tq_transmute(select     = adjusted, \n",
    "               mutate_fun = periodReturn, \n",
    "               period     = \"monthly\", \n",
    "               col_rename = \"Ra\")\n",
    "\n",
    "wts <- c(0.1, 0.1, 0.1, 0.1, 0.1, 0.1, 0.1, 0.1, 0.1, 0.1)\n",
    "\n",
    "portfolio3_returns_monthly <- stock_returns_monthly %>%\n",
    "  tq_portfolio(assets_col  = symbol, \n",
    "               returns_col = Ra, \n",
    "               weights     = wts, \n",
    "               col_rename  = \"Ra\")"
   ]
  },
  {
   "cell_type": "code",
   "execution_count": 16,
   "metadata": {},
   "outputs": [
    {
     "data": {
      "text/html": [
       "<table>\n",
       "<thead><tr><th></th><th scope=col>Ra</th></tr></thead>\n",
       "<tbody>\n",
       "\t<tr><th scope=row>Cumulative Return</th><td>10.24934</td></tr>\n",
       "</tbody>\n",
       "</table>\n"
      ],
      "text/latex": [
       "\\begin{tabular}{r|l}\n",
       "  & Ra\\\\\n",
       "\\hline\n",
       "\tCumulative Return & 10.24934\\\\\n",
       "\\end{tabular}\n"
      ],
      "text/markdown": [
       "\n",
       "| <!--/--> | Ra |\n",
       "|---|---|\n",
       "| Cumulative Return | 10.24934 |\n",
       "\n"
      ],
      "text/plain": [
       "                  Ra      \n",
       "Cumulative Return 10.24934"
      ]
     },
     "metadata": {},
     "output_type": "display_data"
    },
    {
     "data": {
      "text/html": [
       "112493.355282967"
      ],
      "text/latex": [
       "112493.355282967"
      ],
      "text/markdown": [
       "112493.355282967"
      ],
      "text/plain": [
       "[1] 112493.4"
      ]
     },
     "metadata": {},
     "output_type": "display_data"
    },
    {
     "data": {
      "image/png": "[encoded data removed]",
      "text/plain": [
       "plot without title"
      ]
     },
     "metadata": {
      "image/png": {
       "height": 420,
       "width": 420
      }
     },
     "output_type": "display_data"
    }
   ],
   "source": [
    "# portfolio1_returns_monthly$date <- mdy(portfolio1_returns_monthly$date) \n",
    "portfolio3_returns_monthly<- portfolio3_returns_monthly[order(portfolio3_returns_monthly$date),]\n",
    "#create an xts dataset  \n",
    "All.dat <- xts(portfolio3_returns_monthly[,-1], order.by = portfolio3_returns_monthly$date) \n",
    "#Calculate Compound Return for the fund across all the data  \n",
    "Return.cumulative(All.dat$Ra,geometric = TRUE) \n",
    "cum_ret <- Return.cumulative(All.dat$Ra,geometric = TRUE)[1]\n",
    "chart.CumReturns(All.dat$Ra,wealth.index = FALSE, geometric = TRUE)  \n",
    "10000 * (1+cum_ret) "
   ]
  },
  {
   "cell_type": "markdown",
   "metadata": {},
   "source": [
    "# SP500"
   ]
  },
  {
   "cell_type": "code",
   "execution_count": 17,
   "metadata": {},
   "outputs": [
    {
     "data": {
      "text/plain": [
       "[[1]]\n",
       "\n",
       "[[2]]\n",
       "[1] 3.171382\n",
       "\n",
       "[[3]]\n",
       "[1] 41713.82\n"
      ]
     },
     "metadata": {},
     "output_type": "display_data"
    },
    {
     "data": {
      "image/png": "[encoded data removed]",
      "text/plain": [
       "plot without title"
      ]
     },
     "metadata": {
      "image/png": {
       "height": 420,
       "width": 420
      }
     },
     "output_type": "display_data"
    }
   ],
   "source": [
    "Indecies <- c(\"SPY\")\n",
    "wts <- c(1)\n",
    "res <- portfolio_return(Indecies, wts)\n",
    "portfolio_cum_return(res, Initial_investment)"
   ]
  },
  {
   "cell_type": "code",
   "execution_count": 18,
   "metadata": {},
   "outputs": [],
   "source": [
    "stock_prices <- c(\"SPY\") %>%\n",
    "  tq_get(get  = \"stock.prices\")\n",
    "  \n",
    "# stock_prices\n",
    "\n",
    "library(tidyverse)\n",
    "stock_returns_monthly <- stock_prices %>%\n",
    "  group_by(symbol) %>%\n",
    "  tq_transmute(select     = adjusted, \n",
    "               mutate_fun = periodReturn, \n",
    "               period     = \"monthly\", \n",
    "               col_rename = \"Ra\")\n",
    "\n",
    "wts <- c(1)\n",
    "\n",
    "portfolio_returns_monthly <- stock_returns_monthly %>%\n",
    "  tq_portfolio(assets_col  = symbol, \n",
    "               returns_col = Ra, \n",
    "               weights     = wts, \n",
    "               col_rename  = \"Ra\")"
   ]
  },
  {
   "cell_type": "code",
   "execution_count": 19,
   "metadata": {},
   "outputs": [
    {
     "data": {
      "text/html": [
       "<table>\n",
       "<thead><tr><th></th><th scope=col>Ra</th></tr></thead>\n",
       "<tbody>\n",
       "\t<tr><th scope=row>Cumulative Return</th><td>3.171383</td></tr>\n",
       "</tbody>\n",
       "</table>\n"
      ],
      "text/latex": [
       "\\begin{tabular}{r|l}\n",
       "  & Ra\\\\\n",
       "\\hline\n",
       "\tCumulative Return & 3.171383\\\\\n",
       "\\end{tabular}\n"
      ],
      "text/markdown": [
       "\n",
       "| <!--/--> | Ra |\n",
       "|---|---|\n",
       "| Cumulative Return | 3.171383 |\n",
       "\n"
      ],
      "text/plain": [
       "                  Ra      \n",
       "Cumulative Return 3.171383"
      ]
     },
     "metadata": {},
     "output_type": "display_data"
    },
    {
     "data": {
      "text/html": [
       "41713.8300967407"
      ],
      "text/latex": [
       "41713.8300967407"
      ],
      "text/markdown": [
       "41713.8300967407"
      ],
      "text/plain": [
       "[1] 41713.83"
      ]
     },
     "metadata": {},
     "output_type": "display_data"
    },
    {
     "data": {
      "image/png": "[encoded data removed]",
      "text/plain": [
       "plot without title"
      ]
     },
     "metadata": {
      "image/png": {
       "height": 420,
       "width": 420
      }
     },
     "output_type": "display_data"
    }
   ],
   "source": [
    "prm <- portfolio_returns_monthly\n",
    "# portfolio1_returns_monthly$date <- mdy(portfolio1_returns_monthly$date) \n",
    "prm<- prm[order(prm$date),]\n",
    "#create an xts dataset  \n",
    "All.dat <- xts(prm[,-1], order.by = prm$date) \n",
    "#Calculate Compound Return for the fund across all the data  \n",
    "Return.cumulative(All.dat$Ra,geometric = TRUE) \n",
    "cum_ret <- Return.cumulative(All.dat$Ra,geometric = TRUE)[1]\n",
    "chart.CumReturns(All.dat$Ra,wealth.index = FALSE, geometric = TRUE)  \n",
    "10000 * (1+cum_ret) "
   ]
  },
  {
   "cell_type": "code",
   "execution_count": null,
   "metadata": {},
   "outputs": [],
   "source": []
  }
 ],
 "metadata": {
  "kernelspec": {
   "display_name": "R",
   "language": "R",
   "name": "ir"
  },
  "language_info": {
   "codemirror_mode": "r",
   "file_extension": ".r",
   "mimetype": "text/x-r-source",
   "name": "R",
   "pygments_lexer": "r",
   "version": "3.6.1"
  }
 },
 "nbformat": 4,
 "nbformat_minor": 4
}
