{
 "cells": [
  {
   "cell_type": "markdown",
   "metadata": {},
   "source": [
    "## Install and load all the required packages first"
   ]
  },
  {
   "cell_type": "markdown",
   "metadata": {},
   "source": [
    "### install"
   ]
  },
  {
   "cell_type": "code",
   "execution_count": 1,
   "metadata": {},
   "outputs": [],
   "source": [
    "#install.packages('IRkernel') \n",
    "# install.packages(\"rlang\", type=\"binary\",dependencies = TRUE)\n",
    "# install.packages(\"magrittr\", type=\"binary\",dependencies = TRUE) # package installations are only needed the first time you use it\n",
    "# install.packages(\"dplyr\", type=\"binary\",dependencies = TRUE)    # alternative installation of the %>%\n",
    "# install.packages(\"tidyquant\", type=\"binary\",dependencies = TRUE)\n",
    "# install.packages(\"lubridate\", type=\"binary\",dependencies = TRUE)\n",
    "# install.packages(\"PerformanceAnalytics\", type=\"binary\",dependencies = TRUE)\n",
    "# install.packages(\"xts\", type=\"binary\",dependencies = TRUE)\n",
    "# install.packages(\"ggplot2\", type=\"binary\",dependencies = TRUE)\n",
    "# install.packages(\"broom\", type=\"binary\",dependencies = TRUE)\n",
    "# install.packages(\"tidyverse\", type=\"binary\",dependencies = TRUE)\n",
    "# install.packages('timetk', type=\"binary\",dependencies = TRUE)"
   ]
  },
  {
   "cell_type": "code",
   "execution_count": 2,
   "metadata": {},
   "outputs": [],
   "source": [
    "# remove.packages(\"rlang\")\n",
    "# install.packages(\"magrittr\") # package installations are only needed the first time you use it\n",
    "# install.packages(\"dplyr\")    # alternative installation of the %>%\n",
    "# install.packages(\"tidyquant\")\n",
    "# install.packages(\"lubridate\")\n",
    "# install.packages(\"PerformanceAnalytics\")\n",
    "# install.packages(\"xts\")\n",
    "# install.packages(\"ggplot2\")\n",
    "# install.packages(\"broom\")\n",
    "# install.packages(\"tidyverse\")\n",
    "# install.packages(\"timetk\")"
   ]
  },
  {
   "cell_type": "markdown",
   "metadata": {},
   "source": [
    "### load the required packages"
   ]
  },
  {
   "cell_type": "code",
   "execution_count": 4,
   "metadata": {},
   "outputs": [],
   "source": [
    "# library(rlang)\n",
    "library(magrittr) # needs to be run every time you start R and want to use %>%\n",
    "library(ggplot2)\n",
    "library(dplyr)    # alternatively, this also loads %>%\n",
    "library(tidyquant)\n",
    "library(tidyverse)\n",
    "library(lubridate)\n",
    "library(PerformanceAnalytics)\n",
    "library(xts)\n",
    "library(timetk)"
   ]
  },
  {
   "cell_type": "markdown",
   "metadata": {},
   "source": [
    "## Function to evalute the portfolio return based on the indecies and corresponding weights"
   ]
  },
  {
   "cell_type": "markdown",
   "metadata": {},
   "source": [
    "#### From 2012 to 2022 (10 years period)"
   ]
  },
  {
   "cell_type": "code",
   "execution_count": 5,
   "metadata": {},
   "outputs": [],
   "source": [
    "portfolio_return <- function(Indecies, wts){\n",
    "    stock_prices <- tq_get(Indecies , get  = \"stock.prices\")\n",
    "    stock_returns_monthly <- stock_prices %>% group_by(symbol) %>% tq_transmute(select = adjusted,mutate_fun = periodReturn, period     = \"monthly\", col_rename = \"Ra\")\n",
    "    portfolio_returns_monthly <- stock_returns_monthly %>% tq_portfolio(assets_col  = symbol, returns_col = Ra, weights = wts, col_rename  = \"Ra\")\n",
    "    return(portfolio_returns_monthly)\n",
    "}"
   ]
  },
  {
   "cell_type": "markdown",
   "metadata": {},
   "source": [
    "#### Backward extrapolation to map it from 1976 to 2022"
   ]
  },
  {
   "cell_type": "code",
   "execution_count": 6,
   "metadata": {},
   "outputs": [],
   "source": [
    "portfolio_return_extrapolation <- function(Indecies, wts){\n",
    "    stock_prices <- tq_get(Indecies , get  = \"stock.prices\")\n",
    "    stock_returns_monthly <- stock_prices %>% group_by(symbol) %>% tq_transmute(select = adjusted,mutate_fun = periodReturn, period     = \"monthly\", col_rename = \"Ra\")\n",
    "    portfolio_returns_monthly <- stock_returns_monthly %>% tq_portfolio(assets_col  = symbol, returns_col = Ra, weights = wts, col_rename  = \"Ra\")\n",
    "    # Backward extrapolation\n",
    "    prm <- portfolio_returns_monthly\n",
    "    prm1 <- prm\n",
    "    prm1$date <- prm1$date %m-% months(107)\n",
    "    prm2 <- prm1\n",
    "    prm2$date <- prm2$date %m-% months(107)\n",
    "    prm3 <- prm2\n",
    "    prm3$date <- prm3$date %m-% months(107)\n",
    "    prm4 <- prm3\n",
    "    prm4$date <- prm4$date %m-% months(107)\n",
    "    prm_new <- rbind(prm,prm1,prm2,prm3,prm4)\n",
    "\n",
    "    return(prm_new)\n",
    "}"
   ]
  },
  {
   "cell_type": "markdown",
   "metadata": {},
   "source": [
    "## Function to plot the return, and estimate cumulative return, and current investment"
   ]
  },
  {
   "cell_type": "markdown",
   "metadata": {},
   "source": [
    "#### This function returns a plot of cumulative return, cumulative return, current investment, and Sharp Ratio"
   ]
  },
  {
   "cell_type": "code",
   "execution_count": 8,
   "metadata": {},
   "outputs": [],
   "source": [
    "portfolio_cum_return <- function(portfolio_returns_monthly, Initial_investment, Rf){\n",
    "    portfolio_returns_monthly<- portfolio_returns_monthly[order(portfolio_returns_monthly$date),]\n",
    "    #create an xts dataset  \n",
    "    All.dat <- xts(portfolio_returns_monthly[,-1], order.by = portfolio_returns_monthly$date) \n",
    "    #Calculate Compound Return for the fund across all the data  \n",
    "    Return.cumulative(All.dat$Ra,geometric = TRUE) \n",
    "    cum_ret <- Return.cumulative(All.dat$Ra,geometric = TRUE)[1]\n",
    "    p.plot <- chart.CumReturns(All.dat$Ra,wealth.index = FALSE, geometric = TRUE)  \n",
    "    current_investment = Initial_investment * (1+cum_ret) \n",
    "    # Sharpe <- SharpeRatio(All.dat$Ra, All.dat$Risk.Free)\n",
    "    Sharpe <- SharpeRatio(All.dat$Ra, Rf)\n",
    "    return(c(p.plot, cum_ret, current_investment, Sharpe[1,]))\n",
    "}"
   ]
  },
  {
   "cell_type": "markdown",
   "metadata": {},
   "source": [
    "### Input parameter, for the amound of money invested initiallly and Risk-free return"
   ]
  },
  {
   "cell_type": "code",
   "execution_count": 9,
   "metadata": {},
   "outputs": [],
   "source": [
    "Initial_investment = 10000\n",
    "Rf = 0.01/12 # e.g. (0 or 0.01/12)"
   ]
  },
  {
   "cell_type": "markdown",
   "metadata": {},
   "source": [
    "# Factor-based Strategy"
   ]
  },
  {
   "cell_type": "markdown",
   "metadata": {},
   "source": [
    "#### From 2012 to 2022"
   ]
  },
  {
   "cell_type": "code",
   "execution_count": 10,
   "metadata": {},
   "outputs": [
    {
     "name": "stderr",
     "output_type": "stream",
     "text": [
      "Warning message in PerformanceAnalytics::Return.portfolio(., weights = weights, :\n",
      "\"NA's detected: filling NA's with zeros\"\n"
     ]
    },
    {
     "data": {
      "text/plain": [
       "[[1]]\n",
       "\n",
       "[[2]]\n",
       "[1] 2.120246\n",
       "\n",
       "[[3]]\n",
       "[1] 31202.46\n",
       "\n",
       "[[4]]\n",
       "[1] 0.2571454\n"
      ]
     },
     "metadata": {},
     "output_type": "display_data"
    },
    {
     "data": {
      "image/png": "[encoded data removed]",
      "text/plain": [
       "plot without title"
      ]
     },
     "metadata": {
      "image/png": {
       "height": 420,
       "width": 420
      }
     },
     "output_type": "display_data"
    }
   ],
   "source": [
    "Indecies <- c(\"SIZE\",\"VLUE\",\"MTUM\",\"USMV\",\"QUAL\")\n",
    "wts <- c(0.2, 0.2, 0.2, 0.2, 0.2)\n",
    "res <- portfolio_return(Indecies, wts)\n",
    "portfolio_cum_return(res, Initial_investment, Rf)"
   ]
  },
  {
   "cell_type": "markdown",
   "metadata": {},
   "source": [
    "### From 1976 to 2022"
   ]
  },
  {
   "cell_type": "code",
   "execution_count": 11,
   "metadata": {},
   "outputs": [
    {
     "name": "stderr",
     "output_type": "stream",
     "text": [
      "Warning message in PerformanceAnalytics::Return.portfolio(., weights = weights, :\n",
      "\"NA's detected: filling NA's with zeros\"\n"
     ]
    },
    {
     "data": {
      "text/plain": [
       "[[1]]\n",
       "\n",
       "[[2]]\n",
       "[1] 294.7632\n",
       "\n",
       "[[3]]\n",
       "[1] 2957632\n",
       "\n",
       "[[4]]\n",
       "[1] 0.2579804\n"
      ]
     },
     "metadata": {},
     "output_type": "display_data"
    },
    {
     "data": {
      "image/png": "[encoded data removed]",
      "text/plain": [
       "plot without title"
      ]
     },
     "metadata": {
      "image/png": {
       "height": 420,
       "width": 420
      }
     },
     "output_type": "display_data"
    }
   ],
   "source": [
    "Indecies <- c(\"SIZE\",\"VLUE\",\"MTUM\",\"USMV\",\"QUAL\")\n",
    "wts <- c(0.2, 0.2, 0.2, 0.2, 0.2)\n",
    "res <- portfolio_return_extrapolation(Indecies, wts)\n",
    "portfolio_cum_return(res, Initial_investment, Rf)"
   ]
  },
  {
   "cell_type": "markdown",
   "metadata": {},
   "source": [
    "# Barbell Strategy"
   ]
  },
  {
   "cell_type": "markdown",
   "metadata": {},
   "source": [
    "#### From 2012 to 2022"
   ]
  },
  {
   "cell_type": "code",
   "execution_count": 12,
   "metadata": {},
   "outputs": [
    {
     "name": "stderr",
     "output_type": "stream",
     "text": [
      "Warning message in PerformanceAnalytics::Return.portfolio(., weights = weights, :\n",
      "\"NA's detected: filling NA's with zeros\"\n"
     ]
    },
    {
     "data": {
      "text/plain": [
       "[[1]]\n",
       "\n",
       "[[2]]\n",
       "[1] 1.254434\n",
       "\n",
       "[[3]]\n",
       "[1] 22544.34\n",
       "\n",
       "[[4]]\n",
       "[1] 0.2275447\n"
      ]
     },
     "metadata": {},
     "output_type": "display_data"
    },
    {
     "data": {
      "image/png": "[encoded data removed]",
      "text/plain": [
       "plot without title"
      ]
     },
     "metadata": {
      "image/png": {
       "height": 420,
       "width": 420
      }
     },
     "output_type": "display_data"
    }
   ],
   "source": [
    "# SHV is ishares short treasury bond etf\n",
    "Indecies <- c(\"SHV\",\"MTUM\")\n",
    "wts <- c(0.5, 0.5)\n",
    "res <- portfolio_return(Indecies, wts)\n",
    "portfolio_cum_return(res, Initial_investment, Rf)"
   ]
  },
  {
   "cell_type": "markdown",
   "metadata": {},
   "source": [
    "#### From 1976 to 2022"
   ]
  },
  {
   "cell_type": "code",
   "execution_count": 13,
   "metadata": {},
   "outputs": [
    {
     "name": "stderr",
     "output_type": "stream",
     "text": [
      "Warning message in PerformanceAnalytics::Return.portfolio(., weights = weights, :\n",
      "\"NA's detected: filling NA's with zeros\"\n"
     ]
    },
    {
     "data": {
      "text/plain": [
       "[[1]]\n",
       "\n",
       "[[2]]\n",
       "[1] 57.23547\n",
       "\n",
       "[[3]]\n",
       "[1] 582354.7\n",
       "\n",
       "[[4]]\n",
       "[1] 0.2282836\n"
      ]
     },
     "metadata": {},
     "output_type": "display_data"
    },
    {
     "data": {
      "image/png": "[encoded data removed]",
      "text/plain": [
       "plot without title"
      ]
     },
     "metadata": {
      "image/png": {
       "height": 420,
       "width": 420
      }
     },
     "output_type": "display_data"
    }
   ],
   "source": [
    "# SHV is ishares short treasury bond etf\n",
    "Indecies <- c(\"SHV\",\"MTUM\")\n",
    "wts <- c(0.5, 0.5)\n",
    "res <- portfolio_return_extrapolation(Indecies, wts)\n",
    "portfolio_cum_return(res, Initial_investment, Rf)"
   ]
  },
  {
   "cell_type": "markdown",
   "metadata": {},
   "source": [
    "# 50% Barbell + 50% Factor-based"
   ]
  },
  {
   "cell_type": "markdown",
   "metadata": {},
   "source": [
    "#### From 2012 to 2022"
   ]
  },
  {
   "cell_type": "code",
   "execution_count": 14,
   "metadata": {},
   "outputs": [
    {
     "name": "stderr",
     "output_type": "stream",
     "text": [
      "Warning message in PerformanceAnalytics::Return.portfolio(., weights = weights, :\n",
      "\"NA's detected: filling NA's with zeros\"\n"
     ]
    },
    {
     "data": {
      "text/plain": [
       "[[1]]\n",
       "\n",
       "[[2]]\n",
       "[1] 1.68734\n",
       "\n",
       "[[3]]\n",
       "[1] 26873.4\n",
       "\n",
       "[[4]]\n",
       "[1] 0.2500343\n"
      ]
     },
     "metadata": {},
     "output_type": "display_data"
    },
    {
     "data": {
      "image/png": "[encoded data removed]",
      "text/plain": [
       "plot without title"
      ]
     },
     "metadata": {
      "image/png": {
       "height": 420,
       "width": 420
      }
     },
     "output_type": "display_data"
    }
   ],
   "source": [
    "Indecies <- c(\"SIZE\",\"VLUE\",\"USMV\",\"QUAL\",\"MTUM\",\"SHV\")\n",
    "wts <- c(0.1, 0.1, 0.1, 0.1, 0.35, 0.25)\n",
    "res <- portfolio_return(Indecies, wts)\n",
    "portfolio_cum_return(res, Initial_investment, Rf)"
   ]
  },
  {
   "cell_type": "markdown",
   "metadata": {},
   "source": [
    "#### From 1976 to 2022"
   ]
  },
  {
   "cell_type": "code",
   "execution_count": 15,
   "metadata": {},
   "outputs": [
    {
     "name": "stderr",
     "output_type": "stream",
     "text": [
      "Warning message in PerformanceAnalytics::Return.portfolio(., weights = weights, :\n",
      "\"NA's detected: filling NA's with zeros\"\n"
     ]
    },
    {
     "data": {
      "text/plain": [
       "[[1]]\n",
       "\n",
       "[[2]]\n",
       "[1] 139.1564\n",
       "\n",
       "[[3]]\n",
       "[1] 1401564\n",
       "\n",
       "[[4]]\n",
       "[1] 0.2508461\n"
      ]
     },
     "metadata": {},
     "output_type": "display_data"
    },
    {
     "data": {
      "image/png": "[encoded data removed]",
      "text/plain": [
       "plot without title"
      ]
     },
     "metadata": {
      "image/png": {
       "height": 420,
       "width": 420
      }
     },
     "output_type": "display_data"
    }
   ],
   "source": [
    "Indecies <- c(\"SIZE\",\"VLUE\",\"USMV\",\"QUAL\",\"MTUM\",\"SHV\")\n",
    "wts <- c(0.1, 0.1, 0.1, 0.1, 0.35, 0.25)\n",
    "res <- portfolio_return_extrapolation(Indecies, wts)\n",
    "portfolio_cum_return(res, Initial_investment, Rf)"
   ]
  },
  {
   "cell_type": "markdown",
   "metadata": {},
   "source": [
    "# SP500"
   ]
  },
  {
   "cell_type": "markdown",
   "metadata": {},
   "source": [
    "#### From 2012 to 2022"
   ]
  },
  {
   "cell_type": "code",
   "execution_count": 16,
   "metadata": {},
   "outputs": [
    {
     "data": {
      "text/plain": [
       "[[1]]\n",
       "\n",
       "[[2]]\n",
       "[1] 3.173955\n",
       "\n",
       "[[3]]\n",
       "[1] 41739.55\n",
       "\n",
       "[[4]]\n",
       "[1] 0.3027931\n"
      ]
     },
     "metadata": {},
     "output_type": "display_data"
    },
    {
     "data": {
      "image/png": "[encoded data removed]",
      "text/plain": [
       "plot without title"
      ]
     },
     "metadata": {
      "image/png": {
       "height": 420,
       "width": 420
      }
     },
     "output_type": "display_data"
    }
   ],
   "source": [
    "Indecies <- c(\"SPY\")\n",
    "wts <- c(1)\n",
    "res <- portfolio_return(Indecies, wts)\n",
    "portfolio_cum_return(res, Initial_investment, Rf)"
   ]
  },
  {
   "cell_type": "markdown",
   "metadata": {},
   "source": [
    "#### From 1976 to 2022"
   ]
  },
  {
   "cell_type": "code",
   "execution_count": 17,
   "metadata": {},
   "outputs": [
    {
     "data": {
      "text/plain": [
       "[[1]]\n",
       "\n",
       "[[2]]\n",
       "[1] 1265.889\n",
       "\n",
       "[[3]]\n",
       "[1] 12668892\n",
       "\n",
       "[[4]]\n",
       "[1] 0.303776\n"
      ]
     },
     "metadata": {},
     "output_type": "display_data"
    },
    {
     "data": {
      "image/png": "[encoded data removed]",
      "text/plain": [
       "plot without title"
      ]
     },
     "metadata": {
      "image/png": {
       "height": 420,
       "width": 420
      }
     },
     "output_type": "display_data"
    }
   ],
   "source": [
    "Indecies <- c(\"SPY\")\n",
    "wts <- c(1)\n",
    "res <- portfolio_return_extrapolation(Indecies, wts)\n",
    "portfolio_cum_return(res, Initial_investment, Rf)"
   ]
  }
 ],
 "metadata": {
  "kernelspec": {
   "display_name": "R",
   "language": "R",
   "name": "ir"
  },
  "language_info": {
   "codemirror_mode": "r",
   "file_extension": ".r",
   "mimetype": "text/x-r-source",
   "name": "R",
   "pygments_lexer": "r",
   "version": "3.6.1"
  }
 },
 "nbformat": 4,
 "nbformat_minor": 4
}
