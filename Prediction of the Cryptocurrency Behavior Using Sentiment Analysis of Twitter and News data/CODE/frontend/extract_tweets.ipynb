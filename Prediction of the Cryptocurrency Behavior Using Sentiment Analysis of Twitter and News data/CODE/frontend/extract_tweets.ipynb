{
 "cells": [
  {
   "cell_type": "code",
   "execution_count": 10,
   "metadata": {},
   "outputs": [],
   "source": [
    "from twitter_request import TwitterRequest\n",
    "from datetime import timedelta, datetime"
   ]
  },
  {
   "cell_type": "code",
   "execution_count": 11,
   "metadata": {},
   "outputs": [
    {
     "name": "stdout",
     "output_type": "stream",
     "text": [
      "start_date:  2022-04-10 17:23:13.755761\n",
      "end_date:  2022-04-16 17:23:13.755761\n"
     ]
    }
   ],
   "source": [
    "coin_name = 'XRP'\n",
    "month_of_analysis = 1\n",
    "end_date = datetime.today()\n",
    "start_date = end_date - timedelta(days = 6)\n",
    "\n",
    "print(\"start_date: \", start_date)\n",
    "print(\"end_date: \", end_date)"
   ]
  },
  {
   "cell_type": "code",
   "execution_count": 12,
   "metadata": {},
   "outputs": [
    {
     "name": "stdout",
     "output_type": "stream",
     "text": [
      "start_time:  2022-04-10T17:23:13Z\n",
      "end_time:  2022-04-11T17:23:13Z\n",
      "200\n",
      "start_time:  2022-04-11T17:23:13Z\n",
      "end_time:  2022-04-12T17:23:13Z\n",
      "200\n",
      "start_time:  2022-04-12T17:23:13Z\n",
      "end_time:  2022-04-13T17:23:13Z\n",
      "200\n",
      "start_time:  2022-04-13T17:23:13Z\n",
      "end_time:  2022-04-14T17:23:13Z\n",
      "200\n",
      "start_time:  2022-04-14T17:23:13Z\n",
      "end_time:  2022-04-15T17:23:13Z\n",
      "200\n",
      "start_time:  2022-04-15T17:23:13Z\n",
      "end_time:  2022-04-16T17:23:13Z\n",
      "200\n"
     ]
    }
   ],
   "source": [
    "request = TwitterRequest()\n",
    "\n",
    "df = request.get_twits_for_period(start_date, end_date, search_term = coin_name, max_results = 100)\n",
    "df.to_csv('{0}_tweets_{1}_to_{2}.csv'.format(coin_name, start_date.strftime('%m-%d-%Y'), end_date.strftime('%m-%d-%Y')))\n"
   ]
  }
 ],
 "metadata": {
  "interpreter": {
   "hash": "aee8b7b246df8f9039afb4144a1f6fd8d2ca17a180786b69acc140d282b71a49"
  },
  "kernelspec": {
   "display_name": "Python 3.8.5 64-bit",
   "language": "python",
   "name": "python3"
  },
  "language_info": {
   "codemirror_mode": {
    "name": "ipython",
    "version": 3
   },
   "file_extension": ".py",
   "mimetype": "text/x-python",
   "name": "python",
   "nbconvert_exporter": "python",
   "pygments_lexer": "ipython3",
   "version": "3.8.5"
  },
  "orig_nbformat": 4
 },
 "nbformat": 4,
 "nbformat_minor": 2
}
