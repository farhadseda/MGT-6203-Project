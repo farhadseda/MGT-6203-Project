{
 "cells": [
  {
   "cell_type": "code",
   "execution_count": 1,
   "metadata": {},
   "outputs": [],
   "source": [
    "import numpy as np\n",
    "import pandas as pd\n",
    "import pickle\n",
    "from datetime import timedelta, datetime\n",
    "from dateutil.relativedelta import relativedelta\n",
    "from sklearn.discriminant_analysis import LinearDiscriminantAnalysis\n",
    "from sklearn.neighbors import KNeighborsClassifier\n",
    "from sklearn.ensemble import RandomForestClassifier\n",
    "from sklearn.naive_bayes import GaussianNB\n",
    "from sklearn.metrics import accuracy_score\n",
    "from sklearn.model_selection import train_test_split\n",
    "from sklearn.metrics import accuracy_score, classification_report\n",
    "from sklearn.model_selection import RepeatedStratifiedKFold\n",
    "from sklearn.model_selection import cross_val_score"
   ]
  },
  {
   "cell_type": "code",
   "execution_count": 2,
   "metadata": {},
   "outputs": [],
   "source": [
    "model = LinearDiscriminantAnalysis\n",
    "coin_names = ['Bitcoin', 'Litecoin','Ethereum', 'Dogecoin', 'XRP']"
   ]
  },
  {
   "cell_type": "markdown",
   "metadata": {},
   "source": [
    "Part 1 - Define different lag days"
   ]
  },
  {
   "cell_type": "code",
   "execution_count": 3,
   "metadata": {},
   "outputs": [],
   "source": [
    "def lagged_data(coin_names,lag_day):\n",
    "    X = pd.DataFrame()\n",
    "    y = pd.DataFrame()\n",
    "    for coin_name in coin_names:\n",
    "        twitter_signals = pd.read_csv('{0}_twitter_signals.csv'.format(coin_name))\n",
    "        twitter_signals['Date'] = twitter_signals['Date'].apply(lambda x: datetime.strptime(x, '%Y-%m-%d'))\n",
    "        twitter_signals['Date'] = twitter_signals['Date'].apply(lambda x: x.strftime('%m-%d-%Y'))\n",
    "        news_signals = pd.read_csv('{0}_news_signals.csv'.format(coin_name))\n",
    "        # news_signals.drop(columns = ['compound','positive','neutral','negative','polarity','subjective'], inplace=True)\n",
    "        # twitter_signals.drop(columns = ['label','Returns','Adj Close'], inplace=True)\n",
    "        combined_signals = news_signals.merge(twitter_signals, left_on='Date', right_on='Date')\n",
    "        \n",
    "        X1 = combined_signals.drop(columns = ['Date', 'label','Returns','Adj Close'])\n",
    "        X1 = X1.shift(lag_day)\n",
    "        y1 = combined_signals[['label']]\n",
    "        X = X.append(X1.iloc[lag_day:,:], ignore_index=True)\n",
    "        y = y.append(y1.iloc[lag_day:,:], ignore_index=True)\n",
    "    return X,y"
   ]
  },
  {
   "cell_type": "code",
   "execution_count": 4,
   "metadata": {},
   "outputs": [
    {
     "name": "stdout",
     "output_type": "stream",
     "text": [
      "lag day:1\n",
      "Mean Accuracy for: -0.371 (+- 0.076)\n",
      "Mean Accuracy for: 0.645 (+- 0.067)\n",
      "--------------------------------------------------\n",
      "lag day:2\n",
      "Mean Accuracy for: -0.403 (+- 0.076)\n",
      "Mean Accuracy for: 0.635 (+- 0.067)\n",
      "--------------------------------------------------\n",
      "lag day:3\n",
      "Mean Accuracy for: -0.403 (+- 0.100)\n",
      "Mean Accuracy for: 0.641 (+- 0.055)\n",
      "--------------------------------------------------\n",
      "lag day:4\n",
      "Mean Accuracy for: -0.402 (+- 0.086)\n",
      "Mean Accuracy for: 0.639 (+- 0.051)\n",
      "--------------------------------------------------\n",
      "lag day:5\n",
      "Mean Accuracy for: -0.455 (+- 0.108)\n",
      "Mean Accuracy for: 0.616 (+- 0.060)\n",
      "--------------------------------------------------\n",
      "lag day:6\n",
      "Mean Accuracy for: -0.475 (+- 0.117)\n",
      "Mean Accuracy for: 0.590 (+- 0.060)\n",
      "--------------------------------------------------\n",
      "lag day:7\n",
      "Mean Accuracy for: -0.394 (+- 0.066)\n",
      "Mean Accuracy for: 0.616 (+- 0.050)\n",
      "--------------------------------------------------\n"
     ]
    }
   ],
   "source": [
    "# there is already one day lag (so 0 means 1 day lag)\n",
    "for lag_day in range(0,7):\n",
    "    X, y = lagged_data(coin_names,lag_day)\n",
    "    # Define method to evaluate model\n",
    "    cv = RepeatedStratifiedKFold(n_splits=5, n_repeats=5, random_state=1)\n",
    "    # Evaluate model\n",
    "    scores = cross_val_score(model(), X.iloc[lag_day:,:], y[lag_day:], scoring='accuracy', cv=cv, n_jobs=-1)\n",
    "    losses = cross_val_score(model(), X.iloc[lag_day:,:], y[lag_day:], scoring='neg_mean_squared_error', cv=cv, n_jobs=-1)\n",
    "    cor_lag_day = lag_day+1\n",
    "    print('lag day:' + str(cor_lag_day))\n",
    "    print('Mean Accuracy for: %.3f (+- %.3f)' % (np.mean(losses), np.std(losses)))\n",
    "    print('Mean Accuracy for: %.3f (+- %.3f)' % (np.mean(scores), np.std(scores)))\n",
    "    print('--------------------------------------------------')"
   ]
  }
 ],
 "metadata": {
  "kernelspec": {
   "display_name": "Python 3",
   "language": "python",
   "name": "python3"
  },
  "language_info": {
   "codemirror_mode": {
    "name": "ipython",
    "version": 3
   },
   "file_extension": ".py",
   "mimetype": "text/x-python",
   "name": "python",
   "nbconvert_exporter": "python",
   "pygments_lexer": "ipython3",
   "version": "3.8.3"
  }
 },
 "nbformat": 4,
 "nbformat_minor": 4
}
