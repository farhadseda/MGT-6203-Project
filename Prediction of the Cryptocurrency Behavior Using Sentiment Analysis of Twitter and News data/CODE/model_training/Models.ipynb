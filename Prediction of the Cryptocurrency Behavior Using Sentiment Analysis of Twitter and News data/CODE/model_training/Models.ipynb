{
 "cells": [
  {
   "cell_type": "code",
   "execution_count": 1,
   "metadata": {},
   "outputs": [],
   "source": [
    "import numpy as np\n",
    "import pandas as pd\n",
    "import pickle\n",
    "from datetime import timedelta, datetime\n",
    "from dateutil.relativedelta import relativedelta\n",
    "from sklearn.discriminant_analysis import LinearDiscriminantAnalysis\n",
    "from sklearn.neighbors import KNeighborsClassifier\n",
    "from sklearn.ensemble import RandomForestClassifier\n",
    "from sklearn.naive_bayes import GaussianNB\n",
    "from sklearn.metrics import accuracy_score\n",
    "from sklearn.model_selection import train_test_split\n",
    "from sklearn.metrics import accuracy_score, classification_report\n",
    "from sklearn.model_selection import RepeatedStratifiedKFold\n",
    "from sklearn.model_selection import cross_val_score"
   ]
  },
  {
   "cell_type": "code",
   "execution_count": 2,
   "metadata": {},
   "outputs": [],
   "source": [
    "models = [LinearDiscriminantAnalysis, KNeighborsClassifier, RandomForestClassifier, GaussianNB]\n",
    "coin_names = ['Bitcoin', 'Litecoin','Ethereum', 'Dogecoin', 'XRP']"
   ]
  },
  {
   "cell_type": "markdown",
   "metadata": {},
   "source": [
    "Part 1 - only twitter"
   ]
  },
  {
   "cell_type": "code",
   "execution_count": 3,
   "metadata": {},
   "outputs": [],
   "source": [
    "all_crypto = pd.DataFrame()\n",
    "for coin_name in coin_names:\n",
    "    twitter_signals = pd.read_csv('{0}_twitter_signals.csv'.format(coin_name))\n",
    "    twitter_signals['Date'] = twitter_signals['Date'].apply(lambda x: datetime.strptime(x, '%Y-%m-%d'))\n",
    "    twitter_signals['Date'] = twitter_signals['Date'].apply(lambda x: x.strftime('%m-%d-%Y'))\n",
    "    news_signals = pd.read_csv('{0}_news_signals.csv'.format(coin_name))\n",
    "    news_signals.drop(columns = ['compound','positive','neutral','negative','polarity','subjective'], inplace=True)\n",
    "    # twitter_signals.drop(columns = ['label','Returns','Adj Close'], inplace=True)\n",
    "    combined_signals = twitter_signals.merge(news_signals, left_on='Date', right_on='Date')\n",
    "    # combined_signals = news_signals.append(twitter_signals, ignore_index=True)\n",
    "    all_crypto = all_crypto.append(combined_signals, ignore_index=True)\n",
    "    \n",
    "X = all_crypto.drop(columns = ['Date', 'label','Returns','Adj Close'])\n",
    "y = all_crypto['label']"
   ]
  },
  {
   "cell_type": "code",
   "execution_count": 4,
   "metadata": {},
   "outputs": [
    {
     "name": "stdout",
     "output_type": "stream",
     "text": [
      "model:<class 'sklearn.discriminant_analysis.LinearDiscriminantAnalysis'>\n",
      "Mean loss for: -0.309 (+- 0.022)\n",
      "Mean r2 for: -0.035 (+- 0.074)\n",
      "Mean Accuracy for: 0.691 (+- 0.022)\n",
      "--------------------------------------------------\n",
      "model:<class 'sklearn.neighbors._classification.KNeighborsClassifier'>\n",
      "Mean loss for: -0.415 (+- 0.075)\n",
      "Mean r2 for: -0.387 (+- 0.251)\n",
      "Mean Accuracy for: 0.641 (+- 0.041)\n",
      "--------------------------------------------------\n",
      "model:<class 'sklearn.ensemble._forest.RandomForestClassifier'>\n",
      "Mean loss for: -0.429 (+- 0.116)\n",
      "Mean r2 for: -0.499 (+- 0.365)\n",
      "Mean Accuracy for: 0.653 (+- 0.034)\n",
      "--------------------------------------------------\n",
      "model:<class 'sklearn.naive_bayes.GaussianNB'>\n",
      "Mean loss for: -0.404 (+- 0.111)\n",
      "Mean r2 for: -0.352 (+- 0.371)\n",
      "Mean Accuracy for: 0.640 (+- 0.060)\n",
      "--------------------------------------------------\n"
     ]
    }
   ],
   "source": [
    "for model in models:\n",
    "    # Define method to evaluate model\n",
    "    cv = RepeatedStratifiedKFold(n_splits=5, n_repeats=5, random_state=1)\n",
    "    # Evaluate model\n",
    "    # r2 = cross_val_score(model(), X, y, scoring='mae', cv=cv, n_jobs=-1)\n",
    "    # Mean squared error; this is a loss function, so \"scores\" are negative\n",
    "    loss = cross_val_score(model(), X, y, scoring='neg_mean_squared_error', cv=cv, n_jobs=-1)\n",
    "    r2 = cross_val_score(model(), X, y, scoring='r2', cv=cv, n_jobs=-1)\n",
    "    accuracy = cross_val_score(model(), X, y, scoring='accuracy', cv=cv, n_jobs=-1)\n",
    "    print('model:' + str(model))\n",
    "    print('Mean loss for: %.3f (+- %.3f)' % (np.mean(loss), np.std(loss)))\n",
    "    print('Mean r2 for: %.3f (+- %.3f)' % (np.mean(r2), np.std(r2)))\n",
    "    print('Mean Accuracy for: %.3f (+- %.3f)' % (np.mean(accuracy), np.std(accuracy)))\n",
    "    print('--------------------------------------------------')"
   ]
  },
  {
   "cell_type": "markdown",
   "metadata": {},
   "source": [
    "Part 2 - only news"
   ]
  },
  {
   "cell_type": "code",
   "execution_count": 5,
   "metadata": {},
   "outputs": [],
   "source": [
    "all_crypto = pd.DataFrame()\n",
    "for coin_name in coin_names:\n",
    "    twitter_signals = pd.read_csv('{0}_twitter_signals.csv'.format(coin_name))\n",
    "    twitter_signals['Date'] = twitter_signals['Date'].apply(lambda x: datetime.strptime(x, '%Y-%m-%d'))\n",
    "    twitter_signals['Date'] = twitter_signals['Date'].apply(lambda x: x.strftime('%m-%d-%Y'))\n",
    "    news_signals = pd.read_csv('{0}_news_signals.csv'.format(coin_name))\n",
    "    # news_signals.drop(columns = ['compound','positive','neutral','negative','polarity','subjective'], inplace=True)\n",
    "    # twitter_signals.drop(columns = ['label','Returns','Adj Close'], inplace=True)\n",
    "    # combined_signals = twitter_signals.merge(news_signals, left_on='Date', right_on='Date')\n",
    "    combined_signals = news_signals\n",
    "    # combined_signals = news_signals.append(twitter_signals, ignore_index=True)\n",
    "    all_crypto = all_crypto.append(combined_signals, ignore_index=True)\n",
    "    \n",
    "X = all_crypto.drop(columns = ['Date', 'label','Returns','Adj Close'])\n",
    "y = all_crypto['label']"
   ]
  },
  {
   "cell_type": "code",
   "execution_count": 6,
   "metadata": {},
   "outputs": [
    {
     "name": "stdout",
     "output_type": "stream",
     "text": [
      "model:<class 'sklearn.discriminant_analysis.LinearDiscriminantAnalysis'>\n",
      "Mean loss for: -0.353 (+- 0.064)\n",
      "Mean r2 for: -0.182 (+- 0.214)\n",
      "Mean Accuracy for: 0.663 (+- 0.051)\n",
      "--------------------------------------------------\n",
      "model:<class 'sklearn.neighbors._classification.KNeighborsClassifier'>\n",
      "Mean loss for: -0.408 (+- 0.087)\n",
      "Mean r2 for: -0.365 (+- 0.291)\n",
      "Mean Accuracy for: 0.628 (+- 0.055)\n",
      "--------------------------------------------------\n",
      "model:<class 'sklearn.ensemble._forest.RandomForestClassifier'>\n",
      "Mean loss for: -0.369 (+- 0.068)\n",
      "Mean r2 for: -0.245 (+- 0.191)\n",
      "Mean Accuracy for: 0.645 (+- 0.035)\n",
      "--------------------------------------------------\n",
      "model:<class 'sklearn.naive_bayes.GaussianNB'>\n",
      "Mean loss for: -0.671 (+- 0.187)\n",
      "Mean r2 for: -1.244 (+- 0.624)\n",
      "Mean Accuracy for: 0.489 (+- 0.110)\n",
      "--------------------------------------------------\n"
     ]
    }
   ],
   "source": [
    "for model in models:\n",
    "    # Define method to evaluate model\n",
    "    cv = RepeatedStratifiedKFold(n_splits=5, n_repeats=5, random_state=1)\n",
    "    # Evaluate model\n",
    "    # r2 = cross_val_score(model(), X, y, scoring='mae', cv=cv, n_jobs=-1)\n",
    "    # Mean squared error; this is a loss function, so \"scores\" are negative\n",
    "    loss = cross_val_score(model(), X, y, scoring='neg_mean_squared_error', cv=cv, n_jobs=-1)\n",
    "    r2 = cross_val_score(model(), X, y, scoring='r2', cv=cv, n_jobs=-1)\n",
    "    accuracy = cross_val_score(model(), X, y, scoring='accuracy', cv=cv, n_jobs=-1)\n",
    "    print('model:' + str(model))\n",
    "    print('Mean loss for: %.3f (+- %.3f)' % (np.mean(loss), np.std(loss)))\n",
    "    print('Mean r2 for: %.3f (+- %.3f)' % (np.mean(r2), np.std(r2)))\n",
    "    print('Mean Accuracy for: %.3f (+- %.3f)' % (np.mean(accuracy), np.std(accuracy)))\n",
    "    print('--------------------------------------------------')"
   ]
  },
  {
   "cell_type": "markdown",
   "metadata": {},
   "source": [
    "Part 3 - Concatenated data"
   ]
  },
  {
   "cell_type": "code",
   "execution_count": 7,
   "metadata": {},
   "outputs": [],
   "source": [
    "all_crypto = pd.DataFrame()\n",
    "for coin_name in coin_names:\n",
    "    twitter_signals = pd.read_csv('{0}_twitter_signals.csv'.format(coin_name))\n",
    "    twitter_signals['Date'] = twitter_signals['Date'].apply(lambda x: datetime.strptime(x, '%Y-%m-%d'))\n",
    "    twitter_signals['Date'] = twitter_signals['Date'].apply(lambda x: x.strftime('%m-%d-%Y'))\n",
    "    news_signals = pd.read_csv('{0}_news_signals.csv'.format(coin_name))\n",
    "    # news_signals.drop(columns = ['compound','positive','neutral','negative','polarity','subjective'], inplace=True)\n",
    "    # twitter_signals.drop(columns = ['label','Returns','Adj Close'], inplace=True)\n",
    "    combined_signals = news_signals.merge(twitter_signals, left_on='Date', right_on='Date')\n",
    "    # combined_signals = news_signals.append(twitter_signals, ignore_index=True)\n",
    "    all_crypto = all_crypto.append(combined_signals, ignore_index=True)\n",
    "    \n",
    "X = all_crypto.drop(columns = ['Date', 'label','Returns','Adj Close'])\n",
    "y = all_crypto['label']"
   ]
  },
  {
   "cell_type": "code",
   "execution_count": 8,
   "metadata": {},
   "outputs": [
    {
     "name": "stdout",
     "output_type": "stream",
     "text": [
      "model:<class 'sklearn.discriminant_analysis.LinearDiscriminantAnalysis'>\n",
      "Mean loss for: -0.371 (+- 0.076)\n",
      "Mean r2 for: -0.240 (+- 0.253)\n",
      "Mean Accuracy for: 0.645 (+- 0.067)\n",
      "--------------------------------------------------\n",
      "model:<class 'sklearn.neighbors._classification.KNeighborsClassifier'>\n",
      "Mean loss for: -0.429 (+- 0.077)\n",
      "Mean r2 for: -0.436 (+- 0.257)\n",
      "Mean Accuracy for: 0.635 (+- 0.049)\n",
      "--------------------------------------------------\n",
      "model:<class 'sklearn.ensemble._forest.RandomForestClassifier'>\n",
      "Mean loss for: -0.368 (+- 0.071)\n",
      "Mean r2 for: -0.312 (+- 0.232)\n",
      "Mean Accuracy for: 0.687 (+- 0.025)\n",
      "--------------------------------------------------\n",
      "model:<class 'sklearn.naive_bayes.GaussianNB'>\n",
      "Mean loss for: -0.753 (+- 0.179)\n",
      "Mean r2 for: -1.520 (+- 0.599)\n",
      "Mean Accuracy for: 0.443 (+- 0.109)\n",
      "--------------------------------------------------\n"
     ]
    }
   ],
   "source": [
    "for model in models:\n",
    "    # Define method to evaluate model\n",
    "    cv = RepeatedStratifiedKFold(n_splits=5, n_repeats=5, random_state=1)\n",
    "    # Evaluate model\n",
    "    # r2 = cross_val_score(model(), X, y, scoring='mae', cv=cv, n_jobs=-1)\n",
    "    # Mean squared error; this is a loss function, so \"scores\" are negative\n",
    "    loss = cross_val_score(model(), X, y, scoring='neg_mean_squared_error', cv=cv, n_jobs=-1)\n",
    "    r2 = cross_val_score(model(), X, y, scoring='r2', cv=cv, n_jobs=-1)\n",
    "    accuracy = cross_val_score(model(), X, y, scoring='accuracy', cv=cv, n_jobs=-1)\n",
    "    print('model:' + str(model))\n",
    "    print('Mean loss for: %.3f (+- %.3f)' % (np.mean(loss), np.std(loss)))\n",
    "    print('Mean r2 for: %.3f (+- %.3f)' % (np.mean(r2), np.std(r2)))\n",
    "    print('Mean Accuracy for: %.3f (+- %.3f)' % (np.mean(accuracy), np.std(accuracy)))\n",
    "    print('--------------------------------------------------')"
   ]
  }
 ],
 "metadata": {
  "kernelspec": {
   "display_name": "Python 3",
   "language": "python",
   "name": "python3"
  },
  "language_info": {
   "codemirror_mode": {
    "name": "ipython",
    "version": 3
   },
   "file_extension": ".py",
   "mimetype": "text/x-python",
   "name": "python",
   "nbconvert_exporter": "python",
   "pygments_lexer": "ipython3",
   "version": "3.8.3"
  }
 },
 "nbformat": 4,
 "nbformat_minor": 4
}
